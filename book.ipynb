{
  "nbformat": 4,
  "nbformat_minor": 0,
  "metadata": {
    "colab": {
      "provenance": [],
      "authorship_tag": "ABX9TyOJASbFHhon6J0qc0htIdW2",
      "include_colab_link": true
    },
    "kernelspec": {
      "name": "python3",
      "display_name": "Python 3"
    },
    "language_info": {
      "name": "python"
    }
  },
  "cells": [
    {
      "cell_type": "markdown",
      "metadata": {
        "id": "view-in-github",
        "colab_type": "text"
      },
      "source": [
        "<a href=\"https://colab.research.google.com/github/SvetDh/BC-data/blob/main/book.ipynb\" target=\"_parent\"><img src=\"https://colab.research.google.com/assets/colab-badge.svg\" alt=\"Open In Colab\"/></a>"
      ]
    },
    {
      "cell_type": "code",
      "execution_count": null,
      "metadata": {
        "id": "gm3wx41sedhZ"
      },
      "outputs": [],
      "source": [
        "import pandas as pd"
      ]
    },
    {
      "cell_type": "code",
      "source": [
        "df = pd.read_csv('C:\\Users\\hirko\\Downloads\\data.csv')"
      ],
      "metadata": {
        "colab": {
          "base_uri": "https://localhost:8080/",
          "height": 131
        },
        "id": "IJ3Xh7Ueef_d",
        "outputId": "5ca8adf9-e7dc-4fcd-eb7e-8cfce7aa27ce"
      },
      "execution_count": null,
      "outputs": [
        {
          "output_type": "error",
          "ename": "SyntaxError",
          "evalue": "ignored",
          "traceback": [
            "\u001b[0;36m  File \u001b[0;32m\"<ipython-input-5-502b8935ed2a>\"\u001b[0;36m, line \u001b[0;32m1\u001b[0m\n\u001b[0;31m    df = pd.read_csv('C:\\Users\\hirko\\Downloads\\data.csv')\u001b[0m\n\u001b[0m                                                        ^\u001b[0m\n\u001b[0;31mSyntaxError\u001b[0m\u001b[0;31m:\u001b[0m (unicode error) 'unicodeescape' codec can't decode bytes in position 2-3: truncated \\UXXXXXXXX escape\n"
          ]
        }
      ]
    },
    {
      "cell_type": "code",
      "source": [
        " class book:\n",
        "\tdef __init__(self, id, title, content):\n",
        "\t\tself.id=id\n",
        "\t\tself.title= title\n",
        "\t\tself.content=content\n",
        "\t\tself.last_page=0\n",
        "\n",
        "\t\tself.font_size=12\n",
        "\t\tself.chars_per_page =calculate(self.content=content)\n",
        "\n",
        "\tdef display_page(self):\n",
        "\t\tstart_idx=self.chars_per_page*self.last_page\n",
        "\t\tend_idx=start_idx+ + self.chars_per_page\n",
        "\t\treturn self.content[start_idx:end_idx]\n",
        "\n",
        "\tdef turn_page(self):\n",
        "\t\tself.last_page += 1\n",
        "\t\treturn self.display_page()\n",
        "\n",
        "class library:\n",
        "\tdef __init__(self):\n",
        "\t\tself.collection=dict()\n",
        "\t\tself.active_book = None\n",
        "\t\tself.id_counter = 0\n",
        "\t\n",
        "\tdef add_to_collection(self,id):\n",
        "\t\tnew_book = Book(self.id_counter, title, content)\n",
        "\t\tself.collection[new_book.id]=new_book\n",
        "\t\tself.id_counter +=1\t\n",
        "\t\n",
        "\tdef remove_from_collection(self,id):\n",
        "\t\tdel self.collection[id]\n",
        "\n",
        "\tdef set_active_book(self,id):"
      ],
      "metadata": {
        "id": "Ok2B-I5deptj",
        "colab": {
          "base_uri": "https://localhost:8080/",
          "height": 131
        },
        "outputId": "eaa907c9-b646-4d81-acb5-49540c2d67ee"
      },
      "execution_count": null,
      "outputs": [
        {
          "output_type": "error",
          "ename": "SyntaxError",
          "evalue": "ignored",
          "traceback": [
            "\u001b[0;36m  File \u001b[0;32m\"<ipython-input-3-9b9377e88bd9>\"\u001b[0;36m, line \u001b[0;32m9\u001b[0m\n\u001b[0;31m    self.chars_per_page=calculate(self.content=content)\u001b[0m\n\u001b[0m                                  ^\u001b[0m\n\u001b[0;31mSyntaxError\u001b[0m\u001b[0;31m:\u001b[0m expression cannot contain assignment, perhaps you meant \"==\"?\n"
          ]
        }
      ]
    },
    {
      "cell_type": "code",
      "source": [],
      "metadata": {
        "id": "fhdzaUElEWbs"
      },
      "execution_count": null,
      "outputs": []
    }
  ]
}